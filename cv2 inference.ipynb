{
 "cells": [
  {
   "cell_type": "code",
   "execution_count": 1,
   "metadata": {},
   "outputs": [],
   "source": [
    "import cv2\n",
    "import tensorflow as tf \n",
    "import numpy as np\n",
    "\n",
    "# defining class names\n",
    "\n",
    "class_names = ['buildings', 'forest', 'glacier', 'mountain', 'sea', 'street']"
   ]
  },
  {
   "cell_type": "code",
   "execution_count": 2,
   "metadata": {},
   "outputs": [],
   "source": [
    "#importing model saved in tflite format\n",
    "\n",
    "TF_MODEL_FILE_PATH = r\"W:\\tensorflow\\models/intel_image_classification.tflite\"\n",
    "\n",
    "interpreter = tf.lite.Interpreter(TF_MODEL_FILE_PATH)"
   ]
  },
  {
   "cell_type": "code",
   "execution_count": 3,
   "metadata": {},
   "outputs": [
    {
     "data": {
      "text/plain": [
       "{'serving_default': {'inputs': ['rescaling_input'], 'outputs': ['dense_1']}}"
      ]
     },
     "execution_count": 3,
     "metadata": {},
     "output_type": "execute_result"
    }
   ],
   "source": [
    "#getting input and output layers\n",
    "\n",
    "interpreter.get_signature_list()"
   ]
  },
  {
   "cell_type": "code",
   "execution_count": 4,
   "metadata": {},
   "outputs": [],
   "source": [
    "# making a classifier for inferencing using the trained model  \n",
    "\n",
    "classifier = interpreter.get_signature_runner()"
   ]
  },
  {
   "cell_type": "code",
   "execution_count": 5,
   "metadata": {},
   "outputs": [
    {
     "name": "stdout",
     "output_type": "stream",
     "text": [
      "the image belongs to mountain with the confidence of 0.9990416169166565\n"
     ]
    }
   ],
   "source": [
    "# defining image path\n",
    "\n",
    "image_path = r\"W:\\tensorflow\\intel_image_classifcation\\seg_pred\\seg_pred\\test.jpg\"\n",
    "\n",
    "#loading the image that's being predicted\n",
    "pred_image = tf.keras.utils.load_img(image_path , target_size= (150, 150))\n",
    "\n",
    "# converting image to float32 so the model can accept the image\n",
    "pred_image = np.float32(pred_image)\n",
    "\n",
    "# creating a batch\n",
    "image_array = tf.expand_dims(pred_image, 0)\n",
    "\n",
    "# scaling the logits returned by prediction into probabilities\n",
    "predictions = classifier(rescaling_input= image_array)[\"dense_1\"]\n",
    "score = tf.nn.softmax(predictions)\n",
    "\n",
    "# argmax returns the index\n",
    "print(f\"the image belongs to {class_names[np.argmax(score)]} with the confidence of {np.max(score)}\")"
   ]
  },
  {
   "cell_type": "code",
   "execution_count": 6,
   "metadata": {},
   "outputs": [
    {
     "name": "stdout",
     "output_type": "stream",
     "text": [
      "mountain (99.90%)\n"
     ]
    }
   ],
   "source": [
    "# defining the string that will be shown on the image. it includes the class name and the confidence is multiplied by 100 and only shown with upto two decimal places\n",
    "result_string = f\"{class_names[np.argmax(score)]} ({100 * np.max(score):.2f}%)\"\n",
    "print(result_string)"
   ]
  },
  {
   "cell_type": "code",
   "execution_count": 7,
   "metadata": {},
   "outputs": [],
   "source": [
    "def visualization(image, result_string) -> np.ndarray:\n",
    "    text_location = (30, 50)\n",
    "    font_size = 4\n",
    "    font_color = (0, 0, 255)\n",
    "    font_thickness = 2\n",
    "    cv2.putText(image, result_string, text_location, cv2.FONT_HERSHEY_PLAIN, font_size, font_color, font_thickness)\n",
    "    \n",
    "    return image"
   ]
  },
  {
   "cell_type": "code",
   "execution_count": 8,
   "metadata": {},
   "outputs": [],
   "source": [
    "cv2_image = cv2.imread(image_path)\n",
    "\n",
    "annotated_image = visualization(cv2_image, result_string)\n",
    "\n",
    "cv2.imwrite(r\"W:\\tensorflow\\intel_image_classifcation\\cv2 inference\\test.jpg\", annotated_image)\n",
    "\n",
    "# namedWindow fits a higher resolution image when using imshow\n",
    "cv2.namedWindow(\"test\", cv2.WINDOW_NORMAL)\n",
    "cv2.imshow(\"test\", annotated_image)\n",
    "cv2.waitKey(0)\n",
    "cv2.destroyAllWindows()"
   ]
  }
 ],
 "metadata": {
  "kernelspec": {
   "display_name": "Python 3",
   "language": "python",
   "name": "python3"
  },
  "language_info": {
   "codemirror_mode": {
    "name": "ipython",
    "version": 3
   },
   "file_extension": ".py",
   "mimetype": "text/x-python",
   "name": "python",
   "nbconvert_exporter": "python",
   "pygments_lexer": "ipython3",
   "version": "3.11.4"
  }
 },
 "nbformat": 4,
 "nbformat_minor": 2
}
